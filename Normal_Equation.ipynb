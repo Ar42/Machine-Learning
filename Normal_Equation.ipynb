{
  "cells": [
    {
      "cell_type": "code",
      "source": [
        "import pandas as pd\n",
        "import numpy as np\n",
        "from sklearn import linear_model\n",
        "\n",
        "link=\"https://raw.githubusercontent.com/ImrulkayeSifat/DataScience/main/4K_House_Rent_Dataset.csv\"\n",
        "data=pd.read_csv(link)\n",
        "data"
      ],
      "metadata": {
        "id": "rcUjAcu6fOLi"
      },
      "execution_count": null,
      "outputs": []
    },
    {
      "cell_type": "code",
      "source": [
        "data.City[data.City == 'Kolkata']=1\n",
        "data.City[data.City=='Hyderabad']=3\n",
        "data.City[data.City=='Mumbai']=2\n",
        "data.City[data.City=='Bangalore']=4\n",
        "data.City[data.City=='Delhi']=6\n",
        "data.City[data.City=='Chennai']=7\n",
        "x1=data['BHK'].values\n",
        "x2=data['Size'].values\n",
        "x3=data['City'].values\n",
        "x4=data['Bathroom'].values\n",
        "y=data['Rent'].values\n",
        "print(y)"
      ],
      "metadata": {
        "id": "tPjB5JHjfTaL"
      },
      "execution_count": null,
      "outputs": []
    },
    {
      "cell_type": "code",
      "source": [
        "data.drop(['Posted On','Floor','Area Type','Area Locality','Furnishing Status','Tenant Preferred','Point of Contact'], axis = 1, inplace = True)\n",
        "data"
      ],
      "metadata": {
        "id": "mAK5y7fWfYMT"
      },
      "execution_count": null,
      "outputs": []
    },
    {
      "cell_type": "code",
      "source": [
        "reg = linear_model.LinearRegression()\n",
        "reg.fit(data.drop('Rent',axis='columns'),data.Rent)"
      ],
      "metadata": {
        "colab": {
          "base_uri": "https://localhost:8080/"
        },
        "id": "FJNvYsEYfcEy",
        "outputId": "45eac78e-8a88-40bf-f945-aef164dbc7a9"
      },
      "execution_count": null,
      "outputs": [
        {
          "output_type": "execute_result",
          "data": {
            "text/plain": [
              "LinearRegression()"
            ]
          },
          "metadata": {},
          "execution_count": 18
        }
      ]
    },
    {
      "cell_type": "code",
      "source": [
        "reg.coef_"
      ],
      "metadata": {
        "colab": {
          "base_uri": "https://localhost:8080/"
        },
        "id": "LymOyjAtfebu",
        "outputId": "819877c8-2012-4d21-e6ba-936cb90510aa"
      },
      "execution_count": null,
      "outputs": [
        {
          "output_type": "execute_result",
          "data": {
            "text/plain": [
              "array([-1.17588027e+03,  2.49996759e+01, -4.79503755e+03,  2.65733016e+04])"
            ]
          },
          "metadata": {},
          "execution_count": 19
        }
      ]
    },
    {
      "cell_type": "code",
      "source": [
        "reg.intercept_"
      ],
      "metadata": {
        "id": "2FCTnLLAfhN2",
        "outputId": "e531523a-a124-492a-9e58-34ae891efbd8",
        "colab": {
          "base_uri": "https://localhost:8080/"
        }
      },
      "execution_count": null,
      "outputs": [
        {
          "output_type": "execute_result",
          "data": {
            "text/plain": [
              "-20308.709726874287"
            ]
          },
          "metadata": {},
          "execution_count": 20
        }
      ]
    }
  ],
  "metadata": {
    "colab": {
      "provenance": [],
      "collapsed_sections": []
    },
    "kernelspec": {
      "display_name": "Python 3",
      "name": "python3"
    },
    "language_info": {
      "name": "python"
    }
  },
  "nbformat": 4,
  "nbformat_minor": 0
}