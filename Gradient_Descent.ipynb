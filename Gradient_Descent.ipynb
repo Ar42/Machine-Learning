{
  "nbformat": 4,
  "nbformat_minor": 0,
  "metadata": {
    "colab": {
      "provenance": []
    },
    "kernelspec": {
      "name": "python3",
      "display_name": "Python 3"
    },
    "language_info": {
      "name": "python"
    }
  },
  "cells": [
    {
      "cell_type": "code",
      "execution_count": null,
      "metadata": {
        "id": "8WQri7syTfMk"
      },
      "outputs": [],
      "source": [
        "import pandas as pd\n",
        "import numpy as np\n",
        "from sklearn import linear_model\n",
        "\n",
        "link=\"https://raw.githubusercontent.com/ImrulkayeSifat/DataScience/main/4K_House_Rent_Dataset.csv\"\n",
        "data=pd.read_csv(link)\n",
        "data"
      ]
    },
    {
      "cell_type": "code",
      "source": [
        "data.City[data.City == 'Kolkata']=1\n",
        "data.City[data.City=='Hyderabad']=3\n",
        "data.City[data.City=='Mumbai']=2\n",
        "data.City[data.City=='Bangalore']=4\n",
        "data.City[data.City=='Delhi']=6\n",
        "data.City[data.City=='Chennai']=7\n",
        "x1=data['BHK'].values\n",
        "x2=data['Size'].values\n",
        "x3=data['City'].values\n",
        "x4=data['Bathroom'].values\n",
        "y=data['Rent'].values\n",
        "print(y)"
      ],
      "metadata": {
        "id": "jjSEpauNT5um"
      },
      "execution_count": null,
      "outputs": []
    },
    {
      "cell_type": "code",
      "source": [
        "m= len(x1)\n",
        "epoch = 1000\n",
        "learning_rate=0.000001\n",
        "\n",
        "theta0 = 0\n",
        "theta1 = 0\n",
        "theta2 = 0\n",
        "theta3 = 0\n",
        "theta4 = 0\n",
        "print(m)"
      ],
      "metadata": {
        "colab": {
          "base_uri": "https://localhost:8080/"
        },
        "id": "2ylrt9hrT_tB",
        "outputId": "dd52215c-413d-4083-b280-34d9363a3e9d"
      },
      "execution_count": null,
      "outputs": [
        {
          "output_type": "stream",
          "name": "stdout",
          "text": [
            "4746\n"
          ]
        }
      ]
    },
    {
      "cell_type": "code",
      "source": [
        "for i in range(epoch):\n",
        "    sum0=0\n",
        "    sum1=0\n",
        "    sum2=0\n",
        "    sum3=0\n",
        "    sum4=0\n",
        "\n",
        "    for j in range(m):\n",
        "        sum0 += (theta0 + theta1*x1[j] + theta2*x2[j] + theta3*x3[j] + theta4*x4[j] - y[j])\n",
        "        sum1 += (theta0 + theta1*x1[j] + theta2*x2[j] + theta3*x3[j] + theta4*x4[j] - y[j]) * x1[j]\n",
        "        sum2 += (theta0 + theta1*x1[j] + theta2*x2[j] + theta3*x3[j] + theta4*x4[j] - y[j]) * x2[j]\n",
        "        sum3 += (theta0 + theta1*x1[j] + theta2*x2[j] + theta3*x3[j] + theta4*x4[j] - y[j]) * x3[j]\n",
        "        sum4 += (theta0 + theta1*x1[j] + theta2*x2[j] + theta3*x3[j] + theta4*x4[j] - y[j]) * x4[j]\n",
        "\n",
        "    theta0 = theta0 - learning_rate * (sum0) / m\n",
        "    theta1 = theta1 - learning_rate * (sum1) / m\n",
        "    theta2 = theta2 - learning_rate * (sum2) / m\n",
        "    theta3 = theta3 - learning_rate * (sum3) / m\n",
        "    theta4 = theta4 - learning_rate * (sum4) / m\n",
        "\n",
        "print(theta0,theta1,theta2,theta3,theta4)"
      ],
      "metadata": {
        "colab": {
          "base_uri": "https://localhost:8080/"
        },
        "id": "EHuusoUYUGOA",
        "outputId": "ed45cfd1-a197-4e8a-a7bc-df42672ec532"
      },
      "execution_count": null,
      "outputs": [
        {
          "output_type": "stream",
          "name": "stdout",
          "text": [
            "-4.241508736178645 -0.16402587801169052 40.704910889839226 -37.04108252698824 5.259317543057751\n"
          ]
        }
      ]
    },
    {
      "cell_type": "code",
      "source": [
        "sum=0\n",
        "for j in range(m):\n",
        "  tsum = theta0 +  theta1*x1[j] + theta2*x2[j] + theta3*x3[j] + theta4*x4[j] - y[j]\n",
        "  tsum = tsum * tsum\n",
        "  sum = sum + tsum\n",
        "\n",
        "cost = sum/(2*m)\n",
        "print(cost)"
      ],
      "metadata": {
        "colab": {
          "base_uri": "https://localhost:8080/"
        },
        "id": "fB83s_NtUWVk",
        "outputId": "870742ed-6cfa-4d56-9c6b-db26d95f710d"
      },
      "execution_count": null,
      "outputs": [
        {
          "output_type": "stream",
          "name": "stdout",
          "text": [
            "2557325009.8123918\n"
          ]
        }
      ]
    },
    {
      "cell_type": "code",
      "source": [
        "predict = theta0 + theta1*2 + theta2*1100 + theta3*1 + theta4*2\n",
        "print(predict)"
      ],
      "metadata": {
        "colab": {
          "base_uri": "https://localhost:8080/"
        },
        "id": "nfaxkJe0UbVS",
        "outputId": "c6ea51b6-63ae-433e-fa25-150d6c2e33db"
      },
      "execution_count": null,
      "outputs": [
        {
          "output_type": "stream",
          "name": "stdout",
          "text": [
            "44744.30997089008\n"
          ]
        }
      ]
    }
  ]
}